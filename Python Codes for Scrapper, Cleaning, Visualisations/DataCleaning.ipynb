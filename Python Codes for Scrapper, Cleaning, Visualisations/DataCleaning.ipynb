{
 "cells": [
  {
   "cell_type": "markdown",
   "metadata": {},
   "source": []
  },
  {
   "cell_type": "code",
   "execution_count": null,
   "metadata": {},
   "outputs": [],
   "source": [
    "import pandas as pd\n",
    "\n",
    "pd.set_option('display.max_rows',None)\n",
    "df = pd.read_csv(r'C:\\Users\\maher\\Desktop\\YouTube Profile Data.csv')\n",
    "df1 = pd.read_csv(r'C:\\Users\\maher\\Desktop\\DMDD 3\\Twitter Tweets Data.csv')\n",
    "df2 = pd.read_csv(r'C:\\Users\\maher\\Desktop\\DMDD 3\\Profile Data Of Influencers on YouTube & Twitter.csv')\n",
    "\n",
    "\n",
    "#df.head()\n",
    "#df1.head()\n",
    "#df2.tail()"
   ]
  },
  {
   "cell_type": "code",
   "execution_count": null,
   "metadata": {},
   "outputs": [],
   "source": [
    "import pandas as pd\n",
    "df1 = pd.read_csv(r'C:\\Users\\maher\\Desktop\\YouTube Profile Data.csv')\n",
    "df1.head()"
   ]
  },
  {
   "cell_type": "code",
   "execution_count": null,
   "metadata": {},
   "outputs": [],
   "source": [
    "\n",
    "df.isna().sum()\n",
    "#since there are no null values, data is in required format.  \n",
    "df.fillna(0, inplace=True)\n",
    "df.isna().sum()"
   ]
  },
  {
   "cell_type": "code",
   "execution_count": null,
   "metadata": {},
   "outputs": [],
   "source": [
    "df1.isna().sum()"
   ]
  },
  {
   "cell_type": "code",
   "execution_count": null,
   "metadata": {},
   "outputs": [],
   "source": [
    "df2.isna().sum()"
   ]
  },
  {
   "cell_type": "code",
   "execution_count": null,
   "metadata": {},
   "outputs": [],
   "source": [
    "df2new = df2.dropna()\n",
    "df2 = df2new\n",
    "df2.isna().sum()\n",
    "df2.duplicated().sum()\n",
    "df2.drop_duplicates(inplace = True)\n",
    "df2.duplicated().sum()\n",
    "#df2.head()\n"
   ]
  },
  {
   "cell_type": "code",
   "execution_count": null,
   "metadata": {},
   "outputs": [],
   "source": []
  },
  {
   "cell_type": "code",
   "execution_count": null,
   "metadata": {},
   "outputs": [],
   "source": []
  }
 ],
 "metadata": {
  "kernelspec": {
   "display_name": "Python 3.11.0 64-bit",
   "language": "python",
   "name": "python3"
  },
  "language_info": {
   "codemirror_mode": {
    "name": "ipython",
    "version": 3
   },
   "file_extension": ".py",
   "mimetype": "text/x-python",
   "name": "python",
   "nbconvert_exporter": "python",
   "pygments_lexer": "ipython3",
   "version": "3.11.0"
  },
  "orig_nbformat": 4,
  "vscode": {
   "interpreter": {
    "hash": "9a9ea19e84674e6d88cf12b8c7e7c472709bbf8ff3043a3c4fb961dcbdbff2f5"
   }
  }
 },
 "nbformat": 4,
 "nbformat_minor": 2
}
